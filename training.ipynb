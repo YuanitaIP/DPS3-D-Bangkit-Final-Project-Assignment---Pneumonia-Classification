{
 "cells": [
  {
   "cell_type": "code",
   "execution_count": null,
   "metadata": {},
   "outputs": [],
   "source": [
    "import numpy as np\n",
    "import os\n",
    "import shutil\n",
    "from sklearn.model_selection import StratifiedKFold\n",
    "from sklearn.metrics import accuracy_score, classification_report, confusion_matrix\n",
    "import matplotlib.pyplot as plt\n",
    "from keras.preprocessing.image import ImageDataGenerator\n",
    "from keras.models import Sequential,Model\n",
    "from keras.layers import Conv2D, MaxPooling2D, Flatten, Dense, Dropout\n",
    "from keras.optimizers import SGD, Adam\n",
    "import numpy as np\n",
    "from keras.regularizers import l2\n",
    "from keras.callbacks import EarlyStopping, ModelCheckpoint\n",
    "from PIL import Image\n",
    "from skimage import io, color\n",
    "from keras.models import load_model\n",
    "from keras.applications.mobilenet import MobileNet,preprocess_input"
   ]
  },
  {
   "cell_type": "code",
   "execution_count": null,
   "metadata": {},
   "outputs": [],
   "source": [
    "epoch = 10\n",
    "train_dir = base_url + '/train'\n",
    "validation_dir = base_url + '/val'\n",
    "test_dir = base_url + '/test'\n",
    "training_count = 5216\n",
    "testing_count = 16"
   ]
  },
  {
   "cell_type": "code",
   "execution_count": null,
   "metadata": {},
   "outputs": [],
   "source": [
    "model = Sequential()\n",
    "model.add(MobileNet(include_top=False, pooling='avg',))\n",
    "model.add(Dense(2, activation='softmax'))\n",
    "model.summary()\n",
    "opt = SGD(lr=0.01,decay = 1e-6, momentum = 0.9)\n",
    "model.compile(optimizer=\"opt\",\n",
    "            loss='categorical_crossentropy', metrics=['acc'])"
   ]
  },
  {
   "cell_type": "code",
   "execution_count": null,
   "metadata": {},
   "outputs": [],
   "source": [
    "train_datagen = ImageDataGenerator(\n",
    "    preprocessing_function= preprocess_input,\n",
    "    rescale=1./255,\n",
    ")\n",
    "\n",
    "validation_datagen = ImageDataGenerator(\n",
    "    preprocessing_function=  preprocess_input,\n",
    "    rescale=1./255,\n",
    ")\n",
    "\n",
    "train_generator = train_datagen.flow_from_directory(train_dir, target_size=(224, 224),\n",
    "                                                batch_size=32, class_mode='categorical',\n",
    "                                                )\n",
    "\n",
    "validation_generator = validation_datagen.flow_from_directory(validation_dir, target_size=(224, 224),\n",
    "                                                batch_size=32,\n",
    "                                                class_mode='categorical',\n",
    "                                                )\n",
    "\n",
    "history = model.fit_generator(train_generator, epochs=epoch, steps_per_epoch=training_count // 32,\n",
    "                            validation_data=validation_generator, validation_steps=testing_count // 32)\n"
   ]
  }
 ],
 "metadata": {
  "language_info": {
   "codemirror_mode": {
    "name": "ipython",
    "version": 3
   },
   "file_extension": ".py",
   "mimetype": "text/x-python",
   "name": "python",
   "nbconvert_exporter": "python",
   "pygments_lexer": "ipython3",
   "version": 3
  },
  "orig_nbformat": 2
 },
 "nbformat": 4,
 "nbformat_minor": 2
}
