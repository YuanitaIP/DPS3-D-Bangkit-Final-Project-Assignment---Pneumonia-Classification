{
 "cells": [
  {
   "cell_type": "code",
   "execution_count": null,
   "metadata": {},
   "outputs": [],
   "source": [
    "import numpy as np\n",
    "import os\n",
    "import shutil\n",
    "from sklearn.model_selection import StratifiedKFold\n",
    "from sklearn.metrics import accuracy_score, classification_report, confusion_matrix\n",
    "import matplotlib.pyplot as plt\n",
    "from keras.preprocessing.image import ImageDataGenerator\n",
    "from keras.models import Sequential,Model\n",
    "from keras.layers import Conv2D, MaxPooling2D, Flatten, Dense, Dropout\n",
    "from keras.optimizers import SGD, Adam\n",
    "import numpy as np\n",
    "from keras.regularizers import l2\n",
    "from keras.callbacks import EarlyStopping, ModelCheckpoint\n",
    "from PIL import Image\n",
    "from skimage import io, color\n",
    "from keras.models import load_model\n",
    "from keras.applications.mobilenet import MobileNet,preprocess_input"
   ]
  },
  {
   "cell_type": "code",
   "execution_count": null,
   "metadata": {},
   "outputs": [],
   "source": [
    "epoch = 10\n",
    "train_dir = base_url + '/train'\n",
    "validation_dir = base_url + '/val'\n",
    "test_dir = base_url + '/test'\n",
    "training_count = 5216\n",
    "testing_count = 16"
   ]
  },
  {
   "cell_type": "code",
   "execution_count": null,
   "metadata": {},
   "outputs": [],
   "source": [
    "model = Sequential()\n",
    "model.add(MobileNet(include_top=False, pooling='avg',))\n",
    "model.add(Dense(2, activation='softmax'))\n",
    "model.summary()\n",
    "opt = SGD(lr=0.01,decay = 1e-6, momentum = 0.9)\n",
    "model.compile(optimizer=\"opt\",\n",
    "            loss='categorical_crossentropy', metrics=['acc'])"
   ]
  }
 ],
 "metadata": {
  "language_info": {
   "codemirror_mode": {
    "name": "ipython",
    "version": 3
   },
   "file_extension": ".py",
   "mimetype": "text/x-python",
   "name": "python",
   "nbconvert_exporter": "python",
   "pygments_lexer": "ipython3",
   "version": 3
  },
  "orig_nbformat": 2
 },
 "nbformat": 4,
 "nbformat_minor": 2
}
